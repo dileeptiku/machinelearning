{
 "cells": [
  {
   "cell_type": "code",
   "execution_count": 1,
   "metadata": {
    "collapsed": false
   },
   "outputs": [],
   "source": [
    "# Import libraries\n",
    "import numpy as np\n",
    "import pandas as pd\n",
    "from time import time\n",
    "from sklearn.metrics import f1_score\n",
    "\n",
    "# Read malware data from csmining dataset in csv format\n",
    "malware_data = pd.read_csv(\"CSDMC_API_Train.csv\")\n"
   ]
  },
  {
   "cell_type": "code",
   "execution_count": 2,
   "metadata": {
    "collapsed": false
   },
   "outputs": [
    {
     "name": "stdout",
     "output_type": "stream",
     "text": [
      "Index([u'Type', u' APICalls'], dtype='object')\n",
      "Total number of traces: 388\n",
      "Total number of types: 388\n"
     ]
    }
   ],
   "source": [
    "# TODO: Calculate number of malware traces\n",
    "n_traces = len(malware_data)\n",
    "\n",
    "# TODO: Calculate number of features\n",
    "n_features = len(malware_data.columns) - 1 \n",
    "\n",
    "\n",
    "print malware_data.columns\n",
    "target = malware_data['Type']\n",
    "\n",
    "# Print the results\n",
    "print \"Total number of traces: {}\".format(n_traces)\n",
    "print \"Total number of types: {}\".format(len(target))\n"
   ]
  },
  {
   "cell_type": "code",
   "execution_count": 3,
   "metadata": {
    "collapsed": false,
    "scrolled": false
   },
   "outputs": [
    {
     "name": "stdout",
     "output_type": "stream",
     "text": [
      "0    LoadLibraryW HeapAlloc HeapAlloc HeapFree Heap...\n",
      "1    RegOpenKeyExW LoadLibraryA GetProcAddress GetP...\n",
      "2    HeapAlloc HeapFree HeapAlloc HeapAlloc HeapFre...\n",
      "3    HeapAlloc HeapFree HeapAlloc HeapAlloc HeapFre...\n",
      "4    HeapAlloc HeapFree HeapAlloc HeapAlloc HeapFre...\n",
      "Name:  APICalls, dtype: object\n",
      "Total number of APICalls list: 388\n"
     ]
    }
   ],
   "source": [
    "#for each record create a list of APICalls only \n",
    "Apicalls = malware_data[' APICalls']\n",
    "print Apicalls.head()\n",
    "# Print the results\n",
    "print \"Total number of APICalls list: {}\".format(len(Apicalls))"
   ]
  },
  {
   "cell_type": "code",
   "execution_count": 13,
   "metadata": {
    "collapsed": false
   },
   "outputs": [],
   "source": [
    "from sklearn.naive_bayes import MultinomialNB\n",
    "from sklearn.feature_extraction.text import CountVectorizer\n",
    "from sklearn.feature_extraction.text import TfidfTransformer\n",
    "from sklearn.pipeline import Pipeline\n",
    "\n",
    "\n",
    "#create a pipeline, which uses a countvectorizer, a tfidftransformer and a Multinomial Naive Bayes classifier to classify \n",
    "#the software \n",
    "\n",
    "#a countvectorizer is used to convert the APICalls to a numeric form, with the count of an APICall tied to its index.\n",
    "#a tfidftransformer is used to convert the counts from the countvectorizer into term frequencies with words adjusted by inverse\n",
    "#document frequency.\n",
    "\n",
    "# A pipeline in scikit learn facilitates the data transfer between various functions without having to do the same \n",
    "# explicitly\n",
    "\n",
    "text_clf = Pipeline([('vect', CountVectorizer()),\n",
    "                      ('tfidf', TfidfTransformer()),\n",
    "                      ('clf', MultinomialNB()),])"
   ]
  },
  {
   "cell_type": "code",
   "execution_count": 14,
   "metadata": {
    "collapsed": false
   },
   "outputs": [],
   "source": [
    "from sklearn.cross_validation import train_test_split\n",
    "\n",
    "#split the training data into training and testing data\n",
    "X_train, X_test, y_train, y_test = train_test_split(Apicalls, target, test_size=.2, random_state =1)"
   ]
  },
  {
   "cell_type": "code",
   "execution_count": 15,
   "metadata": {
    "collapsed": false
   },
   "outputs": [
    {
     "data": {
      "text/plain": [
       "0.84615384615384615"
      ]
     },
     "execution_count": 15,
     "metadata": {},
     "output_type": "execute_result"
    }
   ],
   "source": [
    "#fit the Multinomial Naive Bayes classifier with training data\n",
    "text_clf = text_clf.fit(X_train, y_train)\n",
    "\n",
    "#use the trained Multinomial Naive Bayes classifier to predict the type of test data\n",
    "predicted = text_clf.predict(X_test)\n",
    "\n",
    "#determine the accuracy of the predicted values\n",
    "np.mean(predicted == y_test)"
   ]
  },
  {
   "cell_type": "code",
   "execution_count": 16,
   "metadata": {
    "collapsed": true
   },
   "outputs": [],
   "source": [
    "from sklearn.linear_model import SGDClassifier\n",
    "\n",
    "#create a pipeline, which uses a countvectorizer, a tfidftransformer and a SGDclassifier to classify the software\n",
    "#SGDClassifier implements linear models with stochastic gradient descent learning.  The loss function of Hinge \n",
    "#gives a Linear SVM\n",
    "#penalty = I2 is a standard regularizer for linear SVM\n",
    "#alpha is \n",
    "#n_iter is the number of passes over the training set\n",
    "\n",
    "text_clf = Pipeline([('vect', CountVectorizer()),\n",
    "                     ('tfidf', TfidfTransformer()),\n",
    "                      ('clf', SGDClassifier(loss='hinge', penalty='l2',\n",
    "                                            alpha=1e-3, n_iter=5, random_state=42)),])"
   ]
  },
  {
   "cell_type": "code",
   "execution_count": 17,
   "metadata": {
    "collapsed": false
   },
   "outputs": [
    {
     "data": {
      "text/plain": [
       "0.89743589743589747"
      ]
     },
     "execution_count": 17,
     "metadata": {},
     "output_type": "execute_result"
    }
   ],
   "source": [
    "#fit SGD based linear SVM classifier with training data\n",
    "text_clf = text_clf.fit(X_train, y_train)\n",
    "\n",
    "#use the trained SVM classifier to predict the type of test data\n",
    "predicted = text_clf.predict(X_test)\n",
    "\n",
    "#determine the accuracy of the predicted values\n",
    "np.mean(predicted == y_test)"
   ]
  },
  {
   "cell_type": "code",
   "execution_count": 18,
   "metadata": {
    "collapsed": false,
    "scrolled": true
   },
   "outputs": [
    {
     "name": "stdout",
     "output_type": "stream",
     "text": [
      "             precision    recall  f1-score   support\n",
      "\n",
      "     Benign       0.83      0.42      0.56        12\n",
      "    Malware       0.90      0.98      0.94        66\n",
      "\n",
      "avg / total       0.89      0.90      0.88        78\n",
      "\n"
     ]
    }
   ],
   "source": [
    "from sklearn import metrics\n",
    "print(metrics.classification_report(y_test, predicted,target_names=['Benign','Malware']))"
   ]
  }
 ],
 "metadata": {
  "kernelspec": {
   "display_name": "Python 2",
   "language": "python",
   "name": "python2"
  },
  "language_info": {
   "codemirror_mode": {
    "name": "ipython",
    "version": 2
   },
   "file_extension": ".py",
   "mimetype": "text/x-python",
   "name": "python",
   "nbconvert_exporter": "python",
   "pygments_lexer": "ipython2",
   "version": "2.7.13"
  }
 },
 "nbformat": 4,
 "nbformat_minor": 2
}
