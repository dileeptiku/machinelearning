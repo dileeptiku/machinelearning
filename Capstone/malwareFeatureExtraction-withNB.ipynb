{
 "cells": [
  {
   "cell_type": "code",
   "execution_count": 1,
   "metadata": {
    "collapsed": false
   },
   "outputs": [],
   "source": [
    "# Import libraries\n",
    "import numpy as np\n",
    "import pandas as pd\n",
    "from time import time\n",
    "from sklearn.metrics import f1_score\n",
    "\n",
    "# Read malware data\n",
    "malware_data = pd.read_csv(\"CSDMC_API_Train.csv\")\n"
   ]
  },
  {
   "cell_type": "code",
   "execution_count": 2,
   "metadata": {
    "collapsed": false
   },
   "outputs": [
    {
     "name": "stdout",
     "output_type": "stream",
     "text": [
      "Index([u'Type', u' APICalls'], dtype='object')\n",
      "Total number of traces: 388\n",
      "Total number of types: 388\n"
     ]
    }
   ],
   "source": [
    "# TODO: Calculate number of malware traces\n",
    "n_traces = len(malware_data)\n",
    "\n",
    "# TODO: Calculate number of features\n",
    "n_features = len(malware_data.columns) - 1 \n",
    "\n",
    "\n",
    "print malware_data.columns\n",
    "target = malware_data['Type']\n",
    "\n",
    "# Print the results\n",
    "print \"Total number of traces: {}\".format(n_traces)\n",
    "print \"Total number of types: {}\".format(len(target))\n"
   ]
  },
  {
   "cell_type": "code",
   "execution_count": 3,
   "metadata": {
    "collapsed": false,
    "scrolled": false
   },
   "outputs": [
    {
     "name": "stdout",
     "output_type": "stream",
     "text": [
      "0    LoadLibraryW HeapAlloc HeapAlloc HeapFree Heap...\n",
      "1    RegOpenKeyExW LoadLibraryA GetProcAddress GetP...\n",
      "2    HeapAlloc HeapFree HeapAlloc HeapAlloc HeapFre...\n",
      "3    HeapAlloc HeapFree HeapAlloc HeapAlloc HeapFre...\n",
      "4    HeapAlloc HeapFree HeapAlloc HeapAlloc HeapFre...\n",
      "Name:  APICalls, dtype: object\n",
      "Total number of APICalls list: 388\n"
     ]
    }
   ],
   "source": [
    "Apicalls = malware_data[' APICalls']\n",
    "print Apicalls.head()\n",
    "# Print the results\n",
    "print \"Total number of APICalls list: {}\".format(len(Apicalls))"
   ]
  },
  {
   "cell_type": "code",
   "execution_count": 4,
   "metadata": {
    "collapsed": false
   },
   "outputs": [
    {
     "data": {
      "text/plain": [
       "(388, 313)"
      ]
     },
     "execution_count": 4,
     "metadata": {},
     "output_type": "execute_result"
    }
   ],
   "source": [
    "from sklearn.feature_extraction.text import CountVectorizer\n",
    "count_vect = CountVectorizer()\n",
    "X_train_counts = count_vect.fit_transform(Apicalls)\n",
    "X_train_counts.shape\n",
    "#count_vect.vocabulary_.get(u'heapalloc')"
   ]
  },
  {
   "cell_type": "code",
   "execution_count": 5,
   "metadata": {
    "collapsed": false
   },
   "outputs": [
    {
     "name": "stdout",
     "output_type": "stream",
     "text": [
      "  (0, 173)\t0.00543723504589\n",
      "  (0, 128)\t0.331095095537\n",
      "  (0, 131)\t0.399416305727\n",
      "  (0, 199)\t0.0198599681146\n",
      "  (0, 96)\t0.0767630770601\n",
      "  (0, 58)\t0.00875912951155\n",
      "  (0, 201)\t0.00794398724586\n",
      "  (0, 237)\t0.00635196166572\n",
      "  (0, 174)\t0.00180275511264\n",
      "  (0, 108)\t0.00456717955445\n",
      "  (0, 75)\t0.0270597553152\n",
      "  (0, 63)\t0.00435021593264\n",
      "  (0, 44)\t0.0042762422896\n",
      "  (0, 50)\t0.00437569819515\n",
      "  (0, 289)\t0.00950612831956\n",
      "  (0, 236)\t0.0173782290518\n",
      "  (0, 242)\t0.0326822663997\n",
      "  (0, 216)\t0.0243156226668\n",
      "  (0, 175)\t0.00180747100736\n",
      "  (0, 243)\t0.00667078494466\n",
      "  (0, 56)\t0.00370117487383\n",
      "  (0, 286)\t0.00743742616175\n",
      "  (0, 287)\t0.00437569819515\n",
      "  (0, 85)\t0.00363761573359\n",
      "  (0, 14)\t0.0255141916654\n",
      "  :\t:\n",
      "  (0, 120)\t0.00812395456202\n",
      "  (0, 72)\t0.0111476942224\n",
      "  (0, 277)\t0.00308739332903\n",
      "  (0, 271)\t0.00278015125777\n",
      "  (0, 129)\t0.00453829946357\n",
      "  (0, 21)\t0.00802378968983\n",
      "  (0, 261)\t0.0216796540102\n",
      "  (0, 257)\t0.0138446053401\n",
      "  (0, 69)\t0.0095727753509\n",
      "  (0, 1)\t0.0470478052843\n",
      "  (0, 2)\t0.0451644095434\n",
      "  (0, 0)\t0.00626229128946\n",
      "  (0, 247)\t0.0125245825789\n",
      "  (0, 239)\t0.00692230267007\n",
      "  (0, 74)\t0.175535058843\n",
      "  (0, 15)\t0.154497986617\n",
      "  (0, 61)\t0.00645205850621\n",
      "  (0, 104)\t0.053353333005\n",
      "  (0, 105)\t0.0609365554967\n",
      "  (0, 110)\t0.0156826017614\n",
      "  (0, 260)\t0.0131133253287\n",
      "  (0, 264)\t0.0180398368768\n",
      "  (0, 132)\t0.0173657091906\n",
      "  (0, 64)\t0.0104227400054\n",
      "  (0, 26)\t0.0121873110993\n"
     ]
    }
   ],
   "source": [
    "from sklearn.feature_extraction.text import TfidfTransformer\n",
    "tfidf_transformer = TfidfTransformer()\n",
    "X_train_tfidf = tfidf_transformer.fit_transform(X_train_counts)\n",
    "X_train_tfidf.shape\n",
    "print X_train_tfidf[6]"
   ]
  },
  {
   "cell_type": "code",
   "execution_count": 45,
   "metadata": {
    "collapsed": false
   },
   "outputs": [],
   "source": [
    "from sklearn.naive_bayes import MultinomialNB\n",
    "from sklearn.pipeline import Pipeline\n",
    "text_clf = Pipeline([('vect', CountVectorizer()),\n",
    "                      ('tfidf', TfidfTransformer()),\n",
    "                      ('clf', MultinomialNB()),])"
   ]
  },
  {
   "cell_type": "code",
   "execution_count": 46,
   "metadata": {
    "collapsed": false
   },
   "outputs": [],
   "source": [
    "from sklearn.cross_validation import train_test_split\n",
    "\n",
    "X_train, X_test, y_train, y_test = train_test_split(Apicalls, target, test_size=.2, random_state =1)"
   ]
  },
  {
   "cell_type": "code",
   "execution_count": 47,
   "metadata": {
    "collapsed": false
   },
   "outputs": [],
   "source": [
    "text_clf = text_clf.fit(X_train, y_train)"
   ]
  },
  {
   "cell_type": "code",
   "execution_count": 48,
   "metadata": {
    "collapsed": true
   },
   "outputs": [],
   "source": [
    "predicted = text_clf.predict(X_test)"
   ]
  },
  {
   "cell_type": "code",
   "execution_count": 49,
   "metadata": {
    "collapsed": false
   },
   "outputs": [
    {
     "data": {
      "text/plain": [
       "0.84615384615384615"
      ]
     },
     "execution_count": 49,
     "metadata": {},
     "output_type": "execute_result"
    }
   ],
   "source": [
    "np.mean(predicted == y_test)"
   ]
  },
  {
   "cell_type": "code",
   "execution_count": 42,
   "metadata": {
    "collapsed": true
   },
   "outputs": [],
   "source": [
    "from sklearn.linear_model import SGDClassifier\n",
    "text_clf = Pipeline([('vect', CountVectorizer()),\n",
    "                     ('tfidf', TfidfTransformer()),\n",
    "                      ('clf', SGDClassifier(loss='hinge', penalty='l2',\n",
    "                                            alpha=1e-3, n_iter=5, random_state=42)),])"
   ]
  },
  {
   "cell_type": "code",
   "execution_count": 43,
   "metadata": {
    "collapsed": false
   },
   "outputs": [
    {
     "data": {
      "text/plain": [
       "0.89743589743589747"
      ]
     },
     "execution_count": 43,
     "metadata": {},
     "output_type": "execute_result"
    }
   ],
   "source": [
    "text_clf = text_clf.fit(X_train, y_train)\n",
    "predicted = text_clf.predict(X_test)\n",
    "np.mean(predicted == y_test)"
   ]
  },
  {
   "cell_type": "code",
   "execution_count": 44,
   "metadata": {
    "collapsed": false
   },
   "outputs": [
    {
     "name": "stdout",
     "output_type": "stream",
     "text": [
      "             precision    recall  f1-score   support\n",
      "\n",
      "     Benign       0.83      0.42      0.56        12\n",
      "    Malware       0.90      0.98      0.94        66\n",
      "\n",
      "avg / total       0.89      0.90      0.88        78\n",
      "\n"
     ]
    }
   ],
   "source": [
    "from sklearn import metrics\n",
    "print(metrics.classification_report(y_test, predicted,target_names=['Benign','Malware']))"
   ]
  }
 ],
 "metadata": {
  "kernelspec": {
   "display_name": "Python 2",
   "language": "python",
   "name": "python2"
  },
  "language_info": {
   "codemirror_mode": {
    "name": "ipython",
    "version": 2
   },
   "file_extension": ".py",
   "mimetype": "text/x-python",
   "name": "python",
   "nbconvert_exporter": "python",
   "pygments_lexer": "ipython2",
   "version": "2.7.13"
  }
 },
 "nbformat": 4,
 "nbformat_minor": 2
}
